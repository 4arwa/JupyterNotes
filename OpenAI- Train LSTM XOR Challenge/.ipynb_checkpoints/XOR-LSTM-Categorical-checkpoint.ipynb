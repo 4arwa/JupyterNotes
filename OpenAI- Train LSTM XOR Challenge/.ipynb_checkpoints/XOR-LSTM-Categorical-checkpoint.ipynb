{
 "cells": [
  {
   "cell_type": "code",
   "execution_count": 7,
   "metadata": {},
   "outputs": [],
   "source": [
    "import numpy as np\n",
    "from keras.models import Sequential\n",
    "from keras.layers.core import Dense \n",
    "from keras.layers import LSTM\n",
    "from keras.utils.np_utils import to_categorical\n",
    "\n",
    "seq_length = 50\n",
    "no_of_seq = 100000\n",
    "units_lstm_1 = 32\n",
    "units_lstm_2 = 32"
   ]
  },
  {
   "cell_type": "code",
   "execution_count": 8,
   "metadata": {},
   "outputs": [],
   "source": [
    "seq = np.random.randint(2, size=(no_of_seq, seq_length)).astype('float32')\n",
    "\n",
    "labels = np.asarray([0 if sum(i) % 2 == 0 else 1 for i in seq])\n",
    "target_data = to_categorical(labels, num_classes=2).astype('float32')\n",
    "\n",
    "train_size = seq.shape[0]\n",
    "size = int(train_size * 0.20)\n",
    "    \n",
    "X_test = seq[:size]\n",
    "X_train = seq[size:]\n",
    "y_test = target_data[:size]\n",
    "y_train = target_data[size:]\n",
    "\n",
    "# Expand dimension to feed into LSTM layer\n",
    "X_train = np.expand_dims(X_train, axis=2)\n",
    "X_test = np.expand_dims(X_test, axis=2)"
   ]
  },
  {
   "cell_type": "code",
   "execution_count": 9,
   "metadata": {},
   "outputs": [],
   "source": [
    "model = Sequential()\n",
    "model.add(LSTM(units_lstm_1, input_shape=(seq_length,1), return_sequences=True))\n",
    "model.add(LSTM(units_lstm_2))\n",
    "model.add(Dense(2, activation='softmax'))\n",
    "model.compile(loss='categorical_crossentropy', optimizer='adam', metrics=['accuracy'])"
   ]
  },
  {
   "cell_type": "code",
   "execution_count": null,
   "metadata": {},
   "outputs": [
    {
     "name": "stdout",
     "output_type": "stream",
     "text": [
      "Epoch 1/500\n",
      "Epoch 2/500\n",
      "Epoch 3/500\n",
      "Epoch 4/500\n"
     ]
    }
   ],
   "source": [
    "model.fit(X_train, y_train, epochs=500, verbose=100)\n",
    "print(model.predict_classes(np.asarray(X_test)))"
   ]
  },
  {
   "cell_type": "code",
   "execution_count": null,
   "metadata": {},
   "outputs": [],
   "source": [
    "model.evaluate(X_test, y_test, verbose=1)"
   ]
  }
 ],
 "metadata": {
  "kernelspec": {
   "display_name": "Python 3",
   "language": "python",
   "name": "python3"
  },
  "language_info": {
   "codemirror_mode": {
    "name": "ipython",
    "version": 3
   },
   "file_extension": ".py",
   "mimetype": "text/x-python",
   "name": "python",
   "nbconvert_exporter": "python",
   "pygments_lexer": "ipython3",
   "version": "3.5.6"
  }
 },
 "nbformat": 4,
 "nbformat_minor": 2
}
